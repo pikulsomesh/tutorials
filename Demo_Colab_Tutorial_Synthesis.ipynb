{
  "nbformat": 4,
  "nbformat_minor": 0,
  "metadata": {
    "kernelspec": {
      "display_name": "Python [conda env:keras] *",
      "language": "python",
      "name": "conda-env-keras-py"
    },
    "language_info": {
      "codemirror_mode": {
        "name": "ipython",
        "version": 3
      },
      "file_extension": ".py",
      "mimetype": "text/x-python",
      "name": "python",
      "nbconvert_exporter": "python",
      "pygments_lexer": "ipython3",
      "version": "3.7.3"
    },
    "colab": {
      "name": "Demo_Colab_Tutorial_Synthesis.ipynb",
      "provenance": [],
      "collapsed_sections": [],
      "toc_visible": true,
      "include_colab_link": true
    }
  },
  "cells": [
    {
      "cell_type": "markdown",
      "metadata": {
        "id": "view-in-github",
        "colab_type": "text"
      },
      "source": [
        "<a href=\"https://colab.research.google.com/github/pikulsomesh/tutorials/blob/master/Demo_Colab_Tutorial_Synthesis.ipynb\" target=\"_parent\"><img src=\"https://colab.research.google.com/assets/colab-badge.svg\" alt=\"Open In Colab\"/></a>"
      ]
    },
    {
      "cell_type": "code",
      "metadata": {
        "id": "3ceCMq104GA5",
        "colab_type": "code",
        "colab": {}
      },
      "source": [
        "!wget -c https://repo.continuum.io/miniconda/Miniconda3-py37_4.8.3-Linux-x86_64.sh\n",
        "!chmod +x Miniconda3-py37_4.8.3-Linux-x86_64.sh\n",
        "!time bash ./Miniconda3-py37_4.8.3-Linux-x86_64.sh -b -f -p /usr/local\n",
        "!time conda install -q -y -c conda-forge rdkit\n",
        "!pip install textdistance\n",
        "!git clone https://github.com/learningmatter-mit/peptimizer\n",
        "\n",
        "import sys\n",
        "sys.path.append('/usr/local/lib/python3.7/site-packages/')"
      ],
      "execution_count": null,
      "outputs": []
    },
    {
      "cell_type": "code",
      "metadata": {
        "id": "OGiew5qeBDRk",
        "colab_type": "code",
        "colab": {}
      },
      "source": [
        "cd peptimizer"
      ],
      "execution_count": null,
      "outputs": []
    },
    {
      "cell_type": "code",
      "metadata": {
        "id": "de_gX4xa4rlW",
        "colab_type": "code",
        "colab": {}
      },
      "source": [
        "import os \n",
        "os.environ['CUDA_VISIBLE_DEVICES'] = '0'\n",
        "\n",
        "from utils.utils_synthesis.synthesis_feature_transformation import FeatureTransformation\n",
        "from utils.utils_synthesis.synthesis_predictor import Predictor\n",
        "from utils.utils_synthesis.synthesis_optimizer import Optimization\n",
        "from utils.utils_common.activator import Activation\n",
        "\n",
        "import pandas as pd"
      ],
      "execution_count": null,
      "outputs": []
    },
    {
      "cell_type": "markdown",
      "metadata": {
        "id": "dTfFhURL4GA-",
        "colab_type": "text"
      },
      "source": [
        "Specifying all paths and constants"
      ]
    },
    {
      "cell_type": "code",
      "metadata": {
        "id": "btHKbgrJ4GA_",
        "colab_type": "code",
        "colab": {}
      },
      "source": [
        "DATASET_PATH = './dataset/data_synthesis/synthesis_data.csv'\n",
        "MINIMAL_MODEL_PATH = './model/model_synthesis/synthesis_minimal.hdf5'\n",
        "PRE_CHAIN_SMILES_PATH = './dataset/data_synthesis/pre_chain_smiles.json'\n",
        "AMINO_ACID_SMILES_PATH = './dataset/data_synthesis/amino_acid_smiles.json'\n",
        "TRANSFORMATION_FUNCTIONS_PATH = './dataset/data_synthesis/transformation_function.pkl'\n",
        "SCALING_FUNCTIONS_PATH = './dataset/data_synthesis/scaling_function.pkl'\n",
        "\n",
        "FP_RADIUS = 3\n",
        "FP_BITS = 128\n",
        "SEQ_MAX = 50\n",
        "\n",
        "MODEL_TYPE = 'complete'"
      ],
      "execution_count": null,
      "outputs": []
    },
    {
      "cell_type": "markdown",
      "metadata": {
        "id": "uhKBf2cW4GBC",
        "colab_type": "text"
      },
      "source": [
        "#### Loading and Feature Transformation\n",
        "Loads the data from a given *.csv file and transforms the features for training using the model <br>\n",
        "Allows for specification of custom features and data types (categorical, continuous)<br>\n",
        "Saves feature_transformation and scaling functions for ease of access during validation/prediction"
      ]
    },
    {
      "cell_type": "code",
      "metadata": {
        "id": "dG66Q-Me4GBC",
        "colab_type": "code",
        "colab": {}
      },
      "source": [
        "synthesis_data = pd.read_csv(DATASET_PATH)"
      ],
      "execution_count": null,
      "outputs": []
    },
    {
      "cell_type": "code",
      "metadata": {
        "id": "_vz7ryAL4GBF",
        "colab_type": "code",
        "colab": {}
      },
      "source": [
        "feature_transformation = FeatureTransformation(\n",
        "    pre_chain_smiles_path = PRE_CHAIN_SMILES_PATH,\n",
        "    amino_acid_smiles_path = AMINO_ACID_SMILES_PATH,\n",
        "    model_type = MODEL_TYPE)"
      ],
      "execution_count": null,
      "outputs": []
    },
    {
      "cell_type": "code",
      "metadata": {
        "id": "Cm9j7iMv4GBH",
        "colab_type": "code",
        "colab": {}
      },
      "source": [
        "nnX, nnY = feature_transformation.scale_transform(synthesis_data)"
      ],
      "execution_count": null,
      "outputs": []
    },
    {
      "cell_type": "markdown",
      "metadata": {
        "id": "zFUW76Ri4GBK",
        "colab_type": "text"
      },
      "source": [
        "#### Training of model\n",
        "Trains the model using transformed features and scaled labels <br>\n",
        "Loads optimized hyperparameters and allows for custom parameters <br>\n",
        "Saves checkpoints and trained models"
      ]
    },
    {
      "cell_type": "code",
      "metadata": {
        "id": "6dFe-1at4GBK",
        "colab_type": "code",
        "colab": {}
      },
      "source": [
        "predictor = Predictor(MODEL_TYPE)"
      ],
      "execution_count": null,
      "outputs": []
    },
    {
      "cell_type": "code",
      "metadata": {
        "id": "EaS4Del14GBP",
        "colab_type": "code",
        "colab": {
          "base_uri": "https://localhost:8080/",
          "height": 359
        },
        "outputId": "f0eb5820-54ce-4e2b-ac0f-986fea757c2d"
      },
      "source": [
        "predictor.train(nnX, nnY)"
      ],
      "execution_count": null,
      "outputs": [
        {
          "output_type": "stream",
          "text": [
            "WARNING:tensorflow:From /usr/local/lib/python3.6/dist-packages/tensorflow/python/keras/engine/training_v1.py:2048: Model.state_updates (from tensorflow.python.keras.engine.training) is deprecated and will be removed in a future version.\n",
            "Instructions for updating:\n",
            "This property should not be used in TensorFlow 2.0, as updates are applied automatically.\n"
          ],
          "name": "stdout"
        },
        {
          "output_type": "display_data",
          "data": {
            "image/png": "[encoded data removed]",
            "text/plain": [
              "<Figure size 432x288 with 1 Axes>"
            ]
          },
          "metadata": {
            "tags": [],
            "needs_background": "light"
          }
        }
      ]
    },
    {
      "cell_type": "markdown",
      "metadata": {
        "id": "EptYOmcU4GBV",
        "colab_type": "text"
      },
      "source": [
        "#### Gradient activation analysis\n",
        "Allows for analysis of residues and positions which contribute the most to aggregation."
      ]
    },
    {
      "cell_type": "code",
      "metadata": {
        "id": "GtsASrnk4GBW",
        "colab_type": "code",
        "colab": {}
      },
      "source": [
        "# Sequence for demonstration\n",
        "\n",
        "pre_chain = 'RQIKIWFQNRRMKWK' # From C-terminus to N-terminus\n",
        "next_amino_acid = 'K'"
      ],
      "execution_count": null,
      "outputs": []
    },
    {
      "cell_type": "code",
      "metadata": {
        "id": "Wz31NpeH4GBY",
        "colab_type": "code",
        "colab": {}
      },
      "source": [
        "activator = Activation(\n",
        "    mode = 'synthesis',\n",
        "    model_path = MINIMAL_MODEL_PATH,\n",
        "    fp_radius = FP_RADIUS,\n",
        "    fp_bits = FP_BITS,\n",
        "    seq_max = SEQ_MAX,\n",
        "    pre_chain_smiles_path = PRE_CHAIN_SMILES_PATH,\n",
        "    amino_acid_smiles_path = AMINO_ACID_SMILES_PATH,\n",
        "    transformation_functions_path = TRANSFORMATION_FUNCTIONS_PATH,\n",
        "    scaling_functions_path = SCALING_FUNCTIONS_PATH\n",
        ")"
      ],
      "execution_count": null,
      "outputs": []
    },
    {
      "cell_type": "code",
      "metadata": {
        "id": "Rt-lESys4GBc",
        "colab_type": "code",
        "colab": {
          "base_uri": "https://localhost:8080/",
          "height": 722
        },
        "outputId": "ef9bfd47-6d31-4d61-ef4b-531263ea2876"
      },
      "source": [
        "activator.analyze(pre_chain + next_amino_acid)"
      ],
      "execution_count": null,
      "outputs": [
        {
          "output_type": "stream",
          "text": [
            "Positive activation for feature map\n"
          ],
          "name": "stdout"
        },
        {
          "output_type": "display_data",
          "data": {
            "image/png": "[encoded data removed]",
            "text/plain": [
              "<Figure size 432x288 with 2 Axes>"
            ]
          },
          "metadata": {
            "tags": [],
            "needs_background": "light"
          }
        },
        {
          "output_type": "stream",
          "text": [
            "Positive activation averaged over residues\n"
          ],
          "name": "stdout"
        },
        {
          "output_type": "display_data",
          "data": {
            "image/png": "[encoded data removed]",
            "text/plain": [
              "<Figure size 432x288 with 2 Axes>"
            ]
          },
          "metadata": {
            "tags": [],
            "needs_background": "light"
          }
        },
        {
          "output_type": "stream",
          "text": [
            "Positive activation averaged over fingerprints\n"
          ],
          "name": "stdout"
        },
        {
          "output_type": "display_data",
          "data": {
            "image/png": "[encoded data removed]",
            "text/plain": [
              "<Figure size 432x288 with 2 Axes>"
            ]
          },
          "metadata": {
            "tags": [],
            "needs_background": "light"
          }
        }
      ]
    },
    {
      "cell_type": "markdown",
      "metadata": {
        "id": "oIVTwNYd4GBe",
        "colab_type": "text"
      },
      "source": [
        "#### Optimization\n",
        "Optimizes a given sequence to reduce aggregation"
      ]
    },
    {
      "cell_type": "code",
      "metadata": {
        "id": "Qzefvz594GBf",
        "colab_type": "code",
        "colab": {}
      },
      "source": [
        "# Sequence for demonstration\n",
        "\n",
        "pre_chain = 'RQIKIWFQNRRMKWK' # From C-terminus to N-terminus\n",
        "next_amino_acid = 'K'"
      ],
      "execution_count": null,
      "outputs": []
    },
    {
      "cell_type": "code",
      "metadata": {
        "id": "P7n0q6Ca4GBi",
        "colab_type": "code",
        "colab": {}
      },
      "source": [
        "optimize = Optimization(\n",
        "    model_path = MINIMAL_MODEL_PATH,\n",
        "    fp_radius = FP_RADIUS,\n",
        "    fp_bits = FP_BITS,\n",
        "    seq_max = SEQ_MAX,\n",
        "    pre_chain_smiles_path = PRE_CHAIN_SMILES_PATH,\n",
        "    amino_acid_smiles_path = AMINO_ACID_SMILES_PATH,\n",
        "    transformation_functions_path = TRANSFORMATION_FUNCTIONS_PATH,\n",
        "    scaling_functions_path = SCALING_FUNCTIONS_PATH\n",
        ")"
      ],
      "execution_count": null,
      "outputs": []
    },
    {
      "cell_type": "code",
      "metadata": {
        "id": "tkQNs45d4GBk",
        "colab_type": "code",
        "colab": {}
      },
      "source": [
        "df_optimize = optimize.optimize(pre_chain + next_amino_acid)"
      ],
      "execution_count": null,
      "outputs": []
    },
    {
      "cell_type": "code",
      "metadata": {
        "id": "AMWZgzTd4GBm",
        "colab_type": "code",
        "colab": {
          "base_uri": "https://localhost:8080/",
          "height": 80
        },
        "outputId": "ff03863d-a166-403a-a523-f2223207e976"
      },
      "source": [
        "# Difference in wild-type sequence\n",
        "df_optimize[df_optimize['Mutation'] == 'WT']"
      ],
      "execution_count": null,
      "outputs": [
        {
          "output_type": "execute_result",
          "data": {
            "text/html": [
              "<div>\n",
              "<style scoped>\n",
              "    .dataframe tbody tr th:only-of-type {\n",
              "        vertical-align: middle;\n",
              "    }\n",
              "\n",
              "    .dataframe tbody tr th {\n",
              "        vertical-align: top;\n",
              "    }\n",
              "\n",
              "    .dataframe thead th {\n",
              "        text-align: right;\n",
              "    }\n",
              "</style>\n",
              "<table border=\"1\" class=\"dataframe\">\n",
              "  <thead>\n",
              "    <tr style=\"text-align: right;\">\n",
              "      <th></th>\n",
              "      <th>Mutant C-&gt; N</th>\n",
              "      <th>Mutation</th>\n",
              "      <th>Difference</th>\n",
              "    </tr>\n",
              "  </thead>\n",
              "  <tbody>\n",
              "    <tr>\n",
              "      <th>164</th>\n",
              "      <td>RQIKIWFQNRRMKWKK</td>\n",
              "      <td>WT</td>\n",
              "      <td>0.229068</td>\n",
              "    </tr>\n",
              "  </tbody>\n",
              "</table>\n",
              "</div>"
            ],
            "text/plain": [
              "         Mutant C-> N Mutation  Difference\n",
              "164  RQIKIWFQNRRMKWKK       WT    0.229068"
            ]
          },
          "metadata": {
            "tags": []
          },
          "execution_count": 24
        }
      ]
    },
    {
      "cell_type": "code",
      "metadata": {
        "id": "Ve7bGC1f4GBo",
        "colab_type": "code",
        "colab": {
          "base_uri": "https://localhost:8080/",
          "height": 204
        },
        "outputId": "faa72be0-6152-465a-e8e4-c413536e6de9"
      },
      "source": [
        "# Difference in single-point mutants\n",
        "df_optimize.head()"
      ],
      "execution_count": null,
      "outputs": [
        {
          "output_type": "execute_result",
          "data": {
            "text/html": [
              "<div>\n",
              "<style scoped>\n",
              "    .dataframe tbody tr th:only-of-type {\n",
              "        vertical-align: middle;\n",
              "    }\n",
              "\n",
              "    .dataframe tbody tr th {\n",
              "        vertical-align: top;\n",
              "    }\n",
              "\n",
              "    .dataframe thead th {\n",
              "        text-align: right;\n",
              "    }\n",
              "</style>\n",
              "<table border=\"1\" class=\"dataframe\">\n",
              "  <thead>\n",
              "    <tr style=\"text-align: right;\">\n",
              "      <th></th>\n",
              "      <th>Mutant C-&gt; N</th>\n",
              "      <th>Mutation</th>\n",
              "      <th>Difference</th>\n",
              "    </tr>\n",
              "  </thead>\n",
              "  <tbody>\n",
              "    <tr>\n",
              "      <th>0</th>\n",
              "      <td>RQIKICFQNRRMKWKK</td>\n",
              "      <td>W11C</td>\n",
              "      <td>-0.580509</td>\n",
              "    </tr>\n",
              "    <tr>\n",
              "      <th>1</th>\n",
              "      <td>RQCKIWFQNRRMKWKK</td>\n",
              "      <td>I14C</td>\n",
              "      <td>-0.522296</td>\n",
              "    </tr>\n",
              "    <tr>\n",
              "      <th>2</th>\n",
              "      <td>RQIKINFQNRRMKWKK</td>\n",
              "      <td>W11N</td>\n",
              "      <td>-0.509592</td>\n",
              "    </tr>\n",
              "    <tr>\n",
              "      <th>3</th>\n",
              "      <td>RQICIWFQNRRMKWKK</td>\n",
              "      <td>K13C</td>\n",
              "      <td>-0.509221</td>\n",
              "    </tr>\n",
              "    <tr>\n",
              "      <th>4</th>\n",
              "      <td>RQIKIMFQNRRMKWKK</td>\n",
              "      <td>W11M</td>\n",
              "      <td>-0.494388</td>\n",
              "    </tr>\n",
              "  </tbody>\n",
              "</table>\n",
              "</div>"
            ],
            "text/plain": [
              "       Mutant C-> N Mutation  Difference\n",
              "0  RQIKICFQNRRMKWKK     W11C   -0.580509\n",
              "1  RQCKIWFQNRRMKWKK     I14C   -0.522296\n",
              "2  RQIKINFQNRRMKWKK     W11N   -0.509592\n",
              "3  RQICIWFQNRRMKWKK     K13C   -0.509221\n",
              "4  RQIKIMFQNRRMKWKK     W11M   -0.494388"
            ]
          },
          "metadata": {
            "tags": []
          },
          "execution_count": 25
        }
      ]
    },
    {
      "cell_type": "code",
      "metadata": {
        "id": "irWB-Qe15BRx",
        "colab_type": "code",
        "colab": {}
      },
      "source": [
        ""
      ],
      "execution_count": null,
      "outputs": []
    }
  ]
}