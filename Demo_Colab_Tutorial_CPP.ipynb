{
  "nbformat": 4,
  "nbformat_minor": 0,
  "metadata": {
    "kernelspec": {
      "display_name": "Python [conda env:keras] *",
      "language": "python",
      "name": "conda-env-keras-py"
    },
    "language_info": {
      "codemirror_mode": {
        "name": "ipython",
        "version": 3
      },
      "file_extension": ".py",
      "mimetype": "text/x-python",
      "name": "python",
      "nbconvert_exporter": "python",
      "pygments_lexer": "ipython3",
      "version": "3.7.3"
    },
    "colab": {
      "name": "Demo_Colab_Tutorial_CPP.ipynb",
      "provenance": [],
      "toc_visible": true,
      "include_colab_link": true
    }
  },
  "cells": [
    {
      "cell_type": "markdown",
      "metadata": {
        "id": "view-in-github",
        "colab_type": "text"
      },
      "source": [
        "<a href=\"https://colab.research.google.com/github/pikulsomesh/tutorials/blob/master/Demo_Colab_Tutorial_CPP.ipynb\" target=\"_parent\"><img src=\"https://colab.research.google.com/assets/colab-badge.svg\" alt=\"Open In Colab\"/></a>"
      ]
    },
    {
      "cell_type": "code",
      "metadata": {
        "id": "Qh6sqL-_vP3r",
        "colab_type": "code",
        "colab": {}
      },
      "source": [
        "!wget -c https://repo.continuum.io/miniconda/Miniconda3-py37_4.8.3-Linux-x86_64.sh\n",
        "!chmod +x Miniconda3-py37_4.8.3-Linux-x86_64.sh\n",
        "!time bash ./Miniconda3-py37_4.8.3-Linux-x86_64.sh -b -f -p /usr/local\n",
        "!time conda install -q -y -c conda-forge rdkit\n",
        "!pip install textdistance\n",
        "!git clone https://github.com/learningmatter-mit/peptimizer\n",
        "\n",
        "import os\n",
        "import sys\n",
        "sys.path.append('/usr/local/lib/python3.7/site-packages/')"
      ],
      "execution_count": null,
      "outputs": []
    },
    {
      "cell_type": "code",
      "metadata": {
        "id": "zrx6rkDrBFb6",
        "colab_type": "code",
        "colab": {}
      },
      "source": [
        "cd peptimizer"
      ],
      "execution_count": null,
      "outputs": []
    },
    {
      "cell_type": "code",
      "metadata": {
        "id": "5Vh8z7uQB4rg",
        "colab_type": "code",
        "colab": {}
      },
      "source": [
        "import os \n",
        "os.environ['CUDA_VISIBLE_DEVICES'] = '2'\n",
        "\n",
        "from utils.utils_cpp import cpp_predictor\n",
        "from utils.utils_cpp import cpp_generator\n",
        "from utils.utils_cpp import cpp_optimizer\n",
        "from utils.utils_common.activator import Activation"
      ],
      "execution_count": null,
      "outputs": []
    },
    {
      "cell_type": "markdown",
      "metadata": {
        "id": "1I324nf_uTrh",
        "colab_type": "text"
      },
      "source": [
        "#### Filepaths"
      ]
    },
    {
      "cell_type": "markdown",
      "metadata": {
        "id": "ZOCJo89GuTri",
        "colab_type": "text"
      },
      "source": [
        "*_DATA_PATH : For datasets, to be used when training and sampling <br>\n",
        "*_MODEL_PATH : For models, to be used when training to save the model, otherwise to load pre-trained models <br>\n",
        "PREDICTOR_STATS_PATH : To save/load statistics for predictor training dataset <br>\n",
        "\n",
        "SEQ_MAX : Maximum sequence length for predictor <br>\n",
        "SEED_SEQ_LENGTH : Seed sequence length for generator <br>\n",
        "\n",
        "SMILES_PATH : SMILES for monomers <br>\n",
        "FP_RADIUS : Radius of topological exploration for fingerprint <br>\n",
        "FP_BITS : Size of fingerprint bit-vector"
      ]
    },
    {
      "cell_type": "code",
      "metadata": {
        "id": "2y8b1FdXuTrj",
        "colab_type": "code",
        "colab": {}
      },
      "source": [
        "# Upload 'cpp_predictor.hdf5' to 'peptimizer/model/model_cpp/'\n",
        "\n",
        "GENERATOR_DATA_PATH = './dataset/data_cpp/cpp_generator_dataset.txt'\n",
        "GENERATOR_MODEL_PATH = './model/model_cpp/cpp_generator.hdf5'\n",
        "SEED_SEQ_LENGTH = 10\n",
        "\n",
        "PREDICTOR_DATA_PATH = './dataset/data_cpp/cpp_predictor_dataset.csv'\n",
        "PREDICTOR_MODEL_PATH = './model/model_cpp/cpp_predictor.hdf5'\n",
        "PREDICTOR_STATS_PATH = './dataset/data_cpp/cpp_predictor_dataset_stats.json'\n",
        "\n",
        "SMILES_PATH = './dataset/data_cpp/cpp_smiles.json'\n",
        "FP_RADIUS = 3\n",
        "FP_BITS = 1024\n",
        "SEQ_MAX = 108"
      ],
      "execution_count": null,
      "outputs": []
    },
    {
      "cell_type": "markdown",
      "metadata": {
        "id": "-Ic2audfuTrn",
        "colab_type": "text"
      },
      "source": [
        "#### Generator"
      ]
    },
    {
      "cell_type": "markdown",
      "metadata": {
        "id": "DNMM3uPkuTro",
        "colab_type": "text"
      },
      "source": [
        "Creating an instance for Generator class with the dataset. <br>\n",
        "Training and saving the generator"
      ]
    },
    {
      "cell_type": "code",
      "metadata": {
        "id": "IU0Jl8TTuTro",
        "colab_type": "code",
        "colab": {
          "base_uri": "https://localhost:8080/",
          "height": 170
        },
        "outputId": "aeef5924-0f3c-4016-9b3c-1c1d7a064a8e"
      },
      "source": [
        "generator = cpp_generator.Generator(data_path = GENERATOR_DATA_PATH, seq_length = SEED_SEQ_LENGTH)\n",
        "\n",
        "generator.train_model()"
      ],
      "execution_count": null,
      "outputs": [
        {
          "output_type": "stream",
          "text": [
            "Loading Data for Training of Generator\n",
            "Pre-Processing Data for Generator\n",
            "Featurizing Data for Generator\n",
            "Starting Training of Generator\n",
            "Train on 5987 samples, validate on 2567 samples\n",
            "Epoch 1/2\n",
            "5987/5987 [==============================] - 1s 155us/sample - loss: 2.8972 - accuracy: 0.1527 - val_loss: 2.6969 - val_accuracy: 0.1944\n",
            "Epoch 2/2\n",
            "5987/5987 [==============================] - 1s 119us/sample - loss: 2.6833 - accuracy: 0.1887 - val_loss: 2.6633 - val_accuracy: 0.1944\n"
          ],
          "name": "stdout"
        }
      ]
    },
    {
      "cell_type": "markdown",
      "metadata": {
        "id": "0u9yKqdduTrt",
        "colab_type": "text"
      },
      "source": [
        "#### Predictor"
      ]
    },
    {
      "cell_type": "markdown",
      "metadata": {
        "id": "mtYu4TzluTrt",
        "colab_type": "text"
      },
      "source": [
        "Creating an instance for Predictor class with the dataset and other parameters. <br>\n",
        "Training and saving the predictor"
      ]
    },
    {
      "cell_type": "code",
      "metadata": {
        "id": "AaxmDYgouTru",
        "colab_type": "code",
        "colab": {
          "base_uri": "https://localhost:8080/",
          "height": 424
        },
        "outputId": "d50144bf-685a-4ef3-e329-b1c9df7e107c"
      },
      "source": [
        "predictor = cpp_predictor.Predictor(\n",
        "    data_path = PREDICTOR_DATA_PATH,\n",
        "    smiles_path = SMILES_PATH,\n",
        "    fp_radius = FP_RADIUS,\n",
        "    fp_bits = FP_BITS,\n",
        "    seq_max = SEQ_MAX\n",
        ")\n",
        "\n",
        "predictor.train_model()"
      ],
      "execution_count": null,
      "outputs": [
        {
          "output_type": "stream",
          "text": [
            "Loading Data for Training of Predictor\n",
            "Featurizing Data for Predictor\n",
            "Creating Model for Predictor\n",
            "Train on 409 samples, validate on 103 samples\n",
            "Epoch 1/2\n",
            "409/409 [==============================] - 7s 17ms/sample - loss: 0.8561 - val_loss: 0.5336\n",
            "Epoch 2/2\n",
            "409/409 [==============================] - 7s 16ms/sample - loss: 0.4710 - val_loss: 0.3962\n"
          ],
          "name": "stdout"
        },
        {
          "output_type": "display_data",
          "data": {
            "image/png": "[encoded data removed]",
            "text/plain": [
              "<Figure size 432x288 with 1 Axes>"
            ]
          },
          "metadata": {
            "tags": [],
            "needs_background": "light"
          }
        }
      ]
    },
    {
      "cell_type": "markdown",
      "metadata": {
        "id": "5at6FiDEuTry",
        "colab_type": "text"
      },
      "source": [
        "#### Optimizer"
      ]
    },
    {
      "cell_type": "markdown",
      "metadata": {
        "id": "cLqX1S0EuTrz",
        "colab_type": "text"
      },
      "source": [
        "Creating an instance for Optimizer class with the pre-trained models and data files. <br>\n",
        "Sampling sequences using a pre-trained generator to seed the genetic algorithm. <br>\n",
        "Optimizing the seed sequences."
      ]
    },
    {
      "cell_type": "code",
      "metadata": {
        "id": "-zat9kQ_uTrz",
        "colab_type": "code",
        "colab": {}
      },
      "source": [
        "optimizer = cpp_optimizer.Optimizer(\n",
        "    model_path = PREDICTOR_MODEL_PATH,\n",
        "    data_path = PREDICTOR_DATA_PATH,\n",
        "    smiles_path = SMILES_PATH,\n",
        "    stats_path = PREDICTOR_STATS_PATH,\n",
        "    fp_radius = FP_RADIUS,\n",
        "    fp_bits = FP_BITS,\n",
        "    seq_max = SEQ_MAX\n",
        ")"
      ],
      "execution_count": null,
      "outputs": []
    },
    {
      "cell_type": "code",
      "metadata": {
        "id": "Dy_W4uB8uTr3",
        "colab_type": "code",
        "colab": {}
      },
      "source": [
        "generator = cpp_generator.Generator(\n",
        "    model_path = GENERATOR_MODEL_PATH,\n",
        "    data_path = GENERATOR_DATA_PATH,\n",
        "    seq_length = SEED_SEQ_LENGTH\n",
        ")"
      ],
      "execution_count": null,
      "outputs": []
    },
    {
      "cell_type": "code",
      "metadata": {
        "id": "HXrMVACfuTr8",
        "colab_type": "code",
        "colab": {
          "base_uri": "https://localhost:8080/",
          "height": 68
        },
        "outputId": "7e3369ce-5ad9-4995-be9b-f3e0611665c3"
      },
      "source": [
        "list_seeds = generator.generate_seed(n_seeds = 2, seed_length = 30)"
      ],
      "execution_count": null,
      "outputs": [
        {
          "output_type": "stream",
          "text": [
            "Generating Seeds for Optimizer\n",
            "Generating Seed  1\n",
            "Generating Seed  2\n"
          ],
          "name": "stdout"
        }
      ]
    },
    {
      "cell_type": "code",
      "metadata": {
        "id": "k6Kp4ykouTsA",
        "colab_type": "code",
        "colab": {
          "base_uri": "https://localhost:8080/",
          "height": 179
        },
        "outputId": "9c5d0862-b403-43e3-846c-cfcd687d594b"
      },
      "source": [
        "df = optimizer.optimize(list_seeds)\n",
        "df.head(2)"
      ],
      "execution_count": null,
      "outputs": [
        {
          "output_type": "stream",
          "text": [
            "Setting up Optimizer\n",
            "Optimizing Seed  1\n",
            "Optimizing Seed  2\n",
            "Post-Processing Optimized Sequences\n"
          ],
          "name": "stdout"
        },
        {
          "output_type": "execute_result",
          "data": {
            "text/html": [
              "<div>\n",
              "<style scoped>\n",
              "    .dataframe tbody tr th:only-of-type {\n",
              "        vertical-align: middle;\n",
              "    }\n",
              "\n",
              "    .dataframe tbody tr th {\n",
              "        vertical-align: top;\n",
              "    }\n",
              "\n",
              "    .dataframe thead th {\n",
              "        text-align: right;\n",
              "    }\n",
              "</style>\n",
              "<table border=\"1\" class=\"dataframe\">\n",
              "  <thead>\n",
              "    <tr style=\"text-align: right;\">\n",
              "      <th></th>\n",
              "      <th>sequences</th>\n",
              "      <th>intensity</th>\n",
              "      <th>length</th>\n",
              "      <th>relative_Arg</th>\n",
              "      <th>relative_charge</th>\n",
              "    </tr>\n",
              "  </thead>\n",
              "  <tbody>\n",
              "    <tr>\n",
              "      <th>265</th>\n",
              "      <td>GRPRESRKKRLGGCYKEAINGELPGHNXRXGXR</td>\n",
              "      <td>11.2325</td>\n",
              "      <td>34</td>\n",
              "      <td>0.176471</td>\n",
              "      <td>0.19862</td>\n",
              "    </tr>\n",
              "    <tr>\n",
              "      <th>264</th>\n",
              "      <td>GRPRESRKKRLGGCYKEAINGELAGHNXRXGXR</td>\n",
              "      <td>11.2119</td>\n",
              "      <td>34</td>\n",
              "      <td>0.176471</td>\n",
              "      <td>0.19862</td>\n",
              "    </tr>\n",
              "  </tbody>\n",
              "</table>\n",
              "</div>"
            ],
            "text/plain": [
              "                              sequences intensity  ... relative_Arg relative_charge\n",
              "265  GRPRESRKKRLGGCYKEAINGELPGHNXRXGXR    11.2325  ...     0.176471         0.19862\n",
              "264  GRPRESRKKRLGGCYKEAINGELAGHNXRXGXR    11.2119  ...     0.176471         0.19862\n",
              "\n",
              "[2 rows x 5 columns]"
            ]
          },
          "metadata": {
            "tags": []
          },
          "execution_count": 17
        }
      ]
    },
    {
      "cell_type": "markdown",
      "metadata": {
        "id": "OTP4s2uouTsF",
        "colab_type": "text"
      },
      "source": [
        "#### Activation Analysis"
      ]
    },
    {
      "cell_type": "markdown",
      "metadata": {
        "id": "jcTEfnnfuTsG",
        "colab_type": "text"
      },
      "source": [
        "Visualizing the gradient activation of peptide sequence (ex. penetratin) based on pre-trained predictor."
      ]
    },
    {
      "cell_type": "code",
      "metadata": {
        "id": "cR8ETnZ5uTsH",
        "colab_type": "code",
        "colab": {
          "base_uri": "https://localhost:8080/",
          "height": 722
        },
        "outputId": "d33f10e1-a3c1-40c3-a90f-e290c5de5413"
      },
      "source": [
        "activator = Activation(\n",
        "    mode = 'cpp',\n",
        "    model_path = PREDICTOR_MODEL_PATH,\n",
        "    smiles_path = SMILES_PATH,\n",
        "    stats_path = PREDICTOR_STATS_PATH,\n",
        "    fp_radius = FP_RADIUS,\n",
        "    fp_bits = FP_BITS,\n",
        "    seq_max = SEQ_MAX\n",
        ")\n",
        "\n",
        "activator.analyze('RQIKIWFQNRRMKWKK')"
      ],
      "execution_count": null,
      "outputs": [
        {
          "output_type": "stream",
          "text": [
            "Positive activation for feature map\n"
          ],
          "name": "stdout"
        },
        {
          "output_type": "display_data",
          "data": {
            "image/png": "[encoded data removed]",
            "text/plain": [
              "<Figure size 432x288 with 2 Axes>"
            ]
          },
          "metadata": {
            "tags": [],
            "needs_background": "light"
          }
        },
        {
          "output_type": "stream",
          "text": [
            "Positive activation averaged over residues\n"
          ],
          "name": "stdout"
        },
        {
          "output_type": "display_data",
          "data": {
            "image/png": "[encoded data removed]",
            "text/plain": [
              "<Figure size 432x288 with 2 Axes>"
            ]
          },
          "metadata": {
            "tags": [],
            "needs_background": "light"
          }
        },
        {
          "output_type": "stream",
          "text": [
            "Positive activation averaged over fingerprints\n"
          ],
          "name": "stdout"
        },
        {
          "output_type": "display_data",
          "data": {
            "image/png": "[encoded data removed]",
            "text/plain": [
              "<Figure size 432x288 with 2 Axes>"
            ]
          },
          "metadata": {
            "tags": [],
            "needs_background": "light"
          }
        }
      ]
    },
    {
      "cell_type": "code",
      "metadata": {
        "id": "qp1P6pxNuTsL",
        "colab_type": "code",
        "colab": {}
      },
      "source": [
        ""
      ],
      "execution_count": null,
      "outputs": []
    }
  ]
}